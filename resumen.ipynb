{
 "cells": [
  {
   "cell_type": "markdown",
   "metadata": {},
   "source": [
    "# 3) Postura critica Energías Renovables No convencionales"
   ]
  },
  {
   "cell_type": "markdown",
   "metadata": {},
   "source": [
    "**Postura Crítica: Generación de Energía Térmica en Colombia en el Mediano y Largo Plazo**\n",
    "\n",
    "**Introducción**: \n",
    "Colombia, al igual que muchos países, enfrenta el desafío de diversificar su matriz energética y avanzar hacia la sostenibilidad. Aunque la energía térmica ha sido un pilar en la generación de electricidad, hay argumentos cada vez más sólidos que indican que es necesario reconsiderar su papel en el futuro energético del país.\n",
    "\n",
    "**1. Contexto de Cambio Climático**:\n",
    "El Quinto Informe de Evaluación del IPCC (2014) establece de manera concluyente la necesidad de reducir las emisiones de gases de efecto invernadero. La generación de energía térmica, especialmente cuando se basa en carbón y otros combustibles fósiles, es una fuente significativa de estas emisiones. Mantener o expandir la capacidad térmica en Colombia iría en contra de los esfuerzos globales y nacionales para combatir el cambio climático.\n",
    "\n",
    "**2. Recursos Naturales y Biodiversidad**:\n",
    "Colombia es uno de los países más biodiversos del mundo. La extracción de carbón y otros combustibles fósiles ha demostrado tener impactos negativos en ecosistemas esenciales, afectando la biodiversidad y los servicios ecosistémicos.\n",
    "\n",
    "<img src=\"impacto_carbon.png\" style=\"width: 500px; height: 800px; display: block; margin: 0 auto; text-align: center;\">\n",
    "\n",
    "La extracción de carbón y otros combustibles fósiles ha demostrado tener impactos negativos en ecosistemas esenciales, afectando la biodiversidad y los servicios ecosistémicos. En particular, la minería, mediante la remoción de cimas de montañas y técnicas de extracción tanto de superficie como subterráneas, ha llevado a la destrucción de bosques, ríos y esteros. Esta degradación ambiental daña directamente a comunidades y a la vida silvestre.\n",
    "\n",
    "Además, las etapas de elaboración y procesamiento, como el lavado de carbón, consumen grandes cantidades de agua dulce, un recurso esencial para la vida y para muchas actividades humanas. Los procesos asociados a la minería y la combustión liberan metales pesados y otros tóxicos al agua, poniendo en riesgo la salud de las comunidades y aumentando las tasas de enfermedades como el cáncer, malformaciones congénitas y daños neurológicos. La liberación de aguas calientes durante la combustión también tiene graves consecuencias para la vida acuática.\n",
    "\n",
    "**3. Dependencia de Combustibles Importados**:\n",
    "La dependencia de combustibles importados para la generación térmica no solo tiene implicaciones económicas, sino que también compromete la seguridad energética del país. Frente a fluctuaciones en los precios globales y la geopolítica, la dependencia de importaciones puede ser arriesgada.\n",
    "\n",
    "**4. Transición Energética y Oportunidades**:\n",
    "El libro \"Energías renovables no convencionales y cambio climático: un análisis para Colombia\" resalta el vasto potencial de Colombia en energías renovables no convencionales. Invertir en estas fuentes, como solar, eólica y biomasa, no solo ayudaría a mitigar el cambio climático, sino que también podría posicionar a Colombia como líder en la región en términos de innovación y desarrollo sostenible.\n",
    "\n",
    "<img src=\"proyectos.jpeg\" style=\"width: 650px; height: 500px; display: block; margin: 0 auto; text-align: center;\">\n",
    "\n",
    "**5. Marco Legal y Compromisos Internacionales**:\n",
    "El Acuerdo de París y otros instrumentos internacionales exigen una reducción en las emisiones de gases de efecto invernadero. Expandir la energía térmica comprometería la capacidad de Colombia para cumplir con estos acuerdos, lo que podría tener consecuencias políticas y económicas.\n",
    "\n",
    "**6. Justicia Social y Energía**:\n",
    "La generación térmica ha sido vinculada a desplazamientos forzados, conflictos y otros problemas sociales en Colombia. A medida que la sociedad colombiana busca formas más inclusivas y justas de desarrollo, la energía térmica puede no alinearse con estos objetivos.\n",
    "\n",
    "**Conclusión**:\n",
    "Si bien la energía térmica ha desempeñado un papel crucial en el pasado energético de Colombia, su papel en el mediano y largo plazo debe ser reconsiderado. Los desafíos del cambio climático, la protección de la biodiversidad, la seguridad energética, las oportunidades de las energías renovables y las obligaciones legales internacionales son factores cruciales que hacen que la continuación o expansión de la generación térmica sea cuestionable. Es esencial que Colombia busque alternativas sostenibles, tanto desde una perspectiva ambiental como socioeconómica."
   ]
  },
  {
   "cell_type": "markdown",
   "metadata": {},
   "source": []
  }
 ],
 "metadata": {
  "kernelspec": {
   "display_name": "Python 3",
   "language": "python",
   "name": "python3"
  },
  "language_info": {
   "codemirror_mode": {
    "name": "ipython",
    "version": 3
   },
   "file_extension": ".py",
   "mimetype": "text/x-python",
   "name": "python",
   "nbconvert_exporter": "python",
   "pygments_lexer": "ipython3",
   "version": "3.10.12"
  },
  "orig_nbformat": 4
 },
 "nbformat": 4,
 "nbformat_minor": 2
}
